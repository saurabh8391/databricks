{
 "cells": [
  {
   "cell_type": "code",
   "execution_count": 0,
   "metadata": {
    "application/vnd.databricks.v1+cell": {
     "cellMetadata": {
      "byteLimit": 2048000,
      "rowLimit": 10000
     },
     "inputWidgets": {},
     "nuid": "8fdb03eb-c99d-4f8d-bde6-3631588c377a",
     "showTitle": false,
     "title": ""
    }
   },
   "outputs": [],
   "source": [
    "bearer_token = <bearer_token> #your bearer tokens\n",
    "workspaceURL = <workspaceURL> #your workspaceURL"
   ]
  },
  {
   "cell_type": "code",
   "execution_count": 0,
   "metadata": {
    "application/vnd.databricks.v1+cell": {
     "cellMetadata": {
      "byteLimit": 2048000,
      "rowLimit": 10000
     },
     "inputWidgets": {},
     "nuid": "7e017d97-7dcd-4856-af9e-bc79525fd0cd",
     "showTitle": false,
     "title": ""
    }
   },
   "outputs": [],
   "source": [
    "job_list_url = f\"{workspaceURL}/api/2.1/jobs/list\"\n",
    "list_url = f\"{workspaceURL}/api/2.1/jobs/runs/list\""
   ]
  },
  {
   "cell_type": "code",
   "execution_count": 0,
   "metadata": {
    "application/vnd.databricks.v1+cell": {
     "cellMetadata": {
      "byteLimit": 2048000,
      "rowLimit": 10000
     },
     "inputWidgets": {},
     "nuid": "a669e4fa-159a-48a3-8bb4-ffad05802c20",
     "showTitle": false,
     "title": ""
    }
   },
   "outputs": [],
   "source": [
    "import requests\n",
    "headersAuth = {\n",
    "    'Authorization': 'Bearer '+ str(bearer_token),\n",
    "}\n",
    "response = requests.get(list_url, headers=headersAuth)\n",
    "runs_resp = response.json()\n",
    "\n",
    "job_response = requests.get(job_list_url, headers=headersAuth)\n",
    "jobs_resp = job_response.json()\n",
    "\n",
    "##Get Job ID\n",
    "jobs_dict = jobs_resp.get('jobs')\n",
    "filtered_dict = [obj for obj in jobs_dict if(obj['settings']['name'] == \"Sample_Job\")]\n",
    "job_id = filtered_dict[0].get('job_id')\n",
    "\n",
    "print(job_id)"
   ]
  },
  {
   "cell_type": "code",
   "execution_count": 0,
   "metadata": {
    "application/vnd.databricks.v1+cell": {
     "cellMetadata": {
      "byteLimit": 2048000,
      "rowLimit": 10000
     },
     "inputWidgets": {},
     "nuid": "8601d195-5369-48a7-b158-f0a59b127e8c",
     "showTitle": false,
     "title": ""
    }
   },
   "outputs": [],
   "source": [
    "## Get Run ID of running Jobs\n",
    "run_list = runs_resp.get('runs')\n",
    "run_id = \"\"\n",
    "for item in run_list:\n",
    "    if(item['job_id'] == job_id and item['state']['life_cycle_state'] == 'TERMINATED'):\n",
    "        run_id = item['run_id']\n",
    "print(run_id)"
   ]
  },
  {
   "cell_type": "code",
   "execution_count": 0,
   "metadata": {
    "application/vnd.databricks.v1+cell": {
     "cellMetadata": {
      "byteLimit": 2048000,
      "rowLimit": 10000
     },
     "inputWidgets": {},
     "nuid": "294e1a2d-7430-4a9f-a368-bd8c4f079ed1",
     "showTitle": false,
     "title": ""
    }
   },
   "outputs": [],
   "source": [
    "#### Stoping Running Job\n",
    "if run_id != \"\":\n",
    "  cancel_url = f\"{workspaceURL}/api/2.1/jobs/runs/cancel\"\n",
    "  data = {\"run_id\": run_id}\n",
    "  cancel_response = requests.post(cancel_url,json=data, headers=headersAuth)\n",
    "  print(cancel_response)"
   ]
  },
  {
   "cell_type": "code",
   "execution_count": 0,
   "metadata": {
    "application/vnd.databricks.v1+cell": {
     "cellMetadata": {
      "byteLimit": 2048000,
      "rowLimit": 10000
     },
     "inputWidgets": {},
     "nuid": "4dcfa4fc-6b57-4e54-b864-05df29ff4afe",
     "showTitle": false,
     "title": ""
    }
   },
   "outputs": [],
   "source": [
    "#### Starting a new job\n",
    "start_url = f\"{workspaceURL}/api/2.0/jobs/run-now\"\n",
    "data = {\"job_id\":job_id, \"notebook_params\": {\n",
    "                \"Run_id\": run_id\n",
    "            }}\n",
    "response = requests.post(start_url,json=data, headers=headersAuth)\n",
    "print(response)"
   ]
  }
 ],
 "metadata": {
  "application/vnd.databricks.v1+notebook": {
   "dashboards": [],
   "language": "python",
   "notebookMetadata": {
    "pythonIndentUnit": 4
   },
   "notebookName": "Orchestration",
   "widgets": {}
  }
 },
 "nbformat": 4,
 "nbformat_minor": 0
}
